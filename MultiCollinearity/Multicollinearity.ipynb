{
 "cells": [
  {
   "cell_type": "code",
   "execution_count": 1,
   "id": "f08bf998-59dd-4d1f-9e70-86ac116604f3",
   "metadata": {},
   "outputs": [
    {
     "data": {
      "text/plain": [
       "array([[ 1. ,  1. ,  1.2],\n",
       "       [ 1. ,  2. ,  2.1],\n",
       "       [ 1. ,  3. ,  3.1],\n",
       "       [ 1. ,  4. ,  4.1],\n",
       "       [ 1. ,  5. ,  5. ],\n",
       "       [ 1. ,  6. ,  6. ],\n",
       "       [ 1. ,  7. ,  7. ],\n",
       "       [ 1. ,  8. ,  8. ],\n",
       "       [ 1. ,  9. ,  9.1],\n",
       "       [ 1. , 10. , 10.2]])"
      ]
     },
     "execution_count": 1,
     "metadata": {},
     "output_type": "execute_result"
    }
   ],
   "source": [
    "import numpy as np\n",
    "arr = np.array([[1,1,1,1,1,1,1,1,1,1],[1, 2, 3, 4, 5, 6, 7, 8, 9, 10],[1.2, 2.1, 3.1, 4.1, 5.0, 6.0, 7.0, 8.0, 9.1, 10.2]]).T\n",
    "arr"
   ]
  },
  {
   "cell_type": "code",
   "execution_count": 2,
   "id": "f4fa24cf-145c-4319-8b41-1afa8627c574",
   "metadata": {},
   "outputs": [
    {
     "data": {
      "text/plain": [
       "29104.19736328427"
      ]
     },
     "execution_count": 2,
     "metadata": {},
     "output_type": "execute_result"
    }
   ],
   "source": [
    "np.linalg.cond(np.dot(arr.T,arr))"
   ]
  },
  {
   "cell_type": "code",
   "execution_count": 3,
   "id": "801ff96f-125e-4be6-818c-5f7baec3d68e",
   "metadata": {},
   "outputs": [
    {
     "data": {
      "text/plain": [
       "array([[  0.67713004,   1.89686099,  -1.97309417],\n",
       "       [  1.89686099,  18.3309417 , -18.40807175],\n",
       "       [ -1.97309417, -18.40807175,  18.49775785]])"
      ]
     },
     "execution_count": 3,
     "metadata": {},
     "output_type": "execute_result"
    }
   ],
   "source": [
    "np.linalg.inv(np.dot(arr.T,arr))"
   ]
  },
  {
   "cell_type": "code",
   "execution_count": 5,
   "id": "b7aaded9-b807-4408-b3d8-e7775671dc4c",
   "metadata": {},
   "outputs": [
    {
     "data": {
      "text/plain": [
       "array([[ 1. ,  1.1,  1.2],\n",
       "       [ 1. ,  2. ,  2.1],\n",
       "       [ 1. ,  3. ,  3.1],\n",
       "       [ 1. ,  4. ,  4.1],\n",
       "       [ 1. ,  5. ,  5. ],\n",
       "       [ 1. ,  6. ,  6. ],\n",
       "       [ 1. ,  7. ,  7. ],\n",
       "       [ 1. ,  8. ,  8. ],\n",
       "       [ 1. ,  9. ,  9.1],\n",
       "       [ 1. , 10. , 10.2]])"
      ]
     },
     "execution_count": 5,
     "metadata": {},
     "output_type": "execute_result"
    }
   ],
   "source": [
    "arr = np.array([[1,1,1,1,1,1,1,1,1,1],[1.1, 2, 3, 4, 5, 6, 7, 8, 9, 10],[1.2, 2.1, 3.1, 4.1, 5.0, 6.0, 7.0, 8.0, 9.1, 10.2]]).T\n",
    "arr"
   ]
  },
  {
   "cell_type": "code",
   "execution_count": 6,
   "id": "00f071d1-39fe-4f13-b99a-5eeeb7ac182a",
   "metadata": {},
   "outputs": [
    {
     "data": {
      "text/plain": [
       "array([[  0.579715  ,   1.55493605,  -1.62140011],\n",
       "       [  1.55493605,  24.45470752, -24.42659041],\n",
       "       [ -1.62140011, -24.42659041,  24.41073715]])"
      ]
     },
     "execution_count": 6,
     "metadata": {},
     "output_type": "execute_result"
    }
   ],
   "source": [
    "np.linalg.inv(np.dot(arr.T,arr))"
   ]
  },
  {
   "cell_type": "code",
   "execution_count": 7,
   "id": "80e08de2-e435-448d-9ee9-964840767f20",
   "metadata": {},
   "outputs": [
    {
     "data": {
      "text/plain": [
       "array([[ 0.46684896, -0.06359872, -0.00341803],\n",
       "       [-0.06359872,  0.06375331, -0.05752395],\n",
       "       [-0.00341803, -0.05752395,  0.06408812]])"
      ]
     },
     "execution_count": 7,
     "metadata": {},
     "output_type": "execute_result"
    }
   ],
   "source": [
    "arr = np.array([[1,1,1,1,1,1,1,1,1,1],[1, 2, 3, 4, 5, 6, 7, 8, 9, 10],[2.4, 0.7, 4.3, 3.5, 1.6, 5.1, 6.9, 7.5, 8.1, 9.8]]).T\n",
    "np.linalg.inv(np.dot(arr.T,arr))"
   ]
  },
  {
   "cell_type": "code",
   "execution_count": 8,
   "id": "a809749a-db01-47b1-903a-2cbd37a7e05d",
   "metadata": {},
   "outputs": [
    {
     "data": {
      "text/plain": [
       "341.04169922403804"
      ]
     },
     "execution_count": 8,
     "metadata": {},
     "output_type": "execute_result"
    }
   ],
   "source": [
    "arr = np.array([[ 0.46684896, -0.06359872, -0.00341803],\n",
    "       [-0.06359872,  0.06375331, -0.05752395],\n",
    "       [-0.00341803, -0.05752395,  0.06408812]])\n",
    "np.linalg.cond(arr)"
   ]
  },
  {
   "cell_type": "code",
   "execution_count": 9,
   "id": "eb96bf25-a2b3-4cec-9eb5-f35a855804fc",
   "metadata": {},
   "outputs": [
    {
     "data": {
      "text/plain": [
       "array([[ 0.47202303, -0.06705466, -0.00051139],\n",
       "       [-0.06705466,  0.06552638, -0.05891698],\n",
       "       [-0.00051139, -0.05891698,  0.06515911]])"
      ]
     },
     "execution_count": 9,
     "metadata": {},
     "output_type": "execute_result"
    }
   ],
   "source": [
    "arr = np.array([[1,1,1,1,1,1,1,1,1,1],[1.1, 2, 3, 4, 5, 6, 7, 8, 9, 10],[2.4, 0.7, 4.3, 3.5, 1.6, 5.1, 6.9, 7.5, 8.1, 9.8]]).T\n",
    "np.linalg.inv(np.dot(arr.T,arr))"
   ]
  },
  {
   "cell_type": "code",
   "execution_count": null,
   "id": "696339d4-6ec7-416b-b3cd-5c1360473754",
   "metadata": {},
   "outputs": [],
   "source": []
  }
 ],
 "metadata": {
  "kernelspec": {
   "display_name": "Python 3 (ipykernel)",
   "language": "python",
   "name": "python3"
  },
  "language_info": {
   "codemirror_mode": {
    "name": "ipython",
    "version": 3
   },
   "file_extension": ".py",
   "mimetype": "text/x-python",
   "name": "python",
   "nbconvert_exporter": "python",
   "pygments_lexer": "ipython3",
   "version": "3.12.3"
  }
 },
 "nbformat": 4,
 "nbformat_minor": 5
}
